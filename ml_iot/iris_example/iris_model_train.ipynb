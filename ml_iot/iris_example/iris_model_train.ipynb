{
 "cells": [
  {
   "cell_type": "code",
   "execution_count": 3,
   "metadata": {},
   "outputs": [
    {
     "name": "stdout",
     "output_type": "stream",
     "text": [
      "Looking in indexes: https://pypi.tuna.tsinghua.edu.cn/simple\n",
      "Collecting everywhereml==0.2.36\n",
      "  Downloading https://pypi.tuna.tsinghua.edu.cn/packages/fe/bd/0a4baa6f66d8854e4f0ad0a52078ce274c7a126f3f9a4dcd77979601bd85/everywhereml-0.2.36.tar.gz (47 kB)\n",
      "\u001b[2K     \u001b[90m━━━━━━━━━━━━━━━━━━━━━━━━━━━━━━━━━━━━━━━\u001b[0m \u001b[32m47.6/47.6 kB\u001b[0m \u001b[31m950.2 kB/s\u001b[0m eta \u001b[36m0:00:00\u001b[0ma \u001b[36m0:00:01\u001b[0m\n",
      "\u001b[?25h  Preparing metadata (setup.py) ... \u001b[?25ldone\n",
      "\u001b[?25hRequirement already satisfied: numpy in /home/xia_1818/Desktop/ls/lib/python3.10/site-packages (from everywhereml==0.2.36) (1.23.5)\n",
      "Requirement already satisfied: pandas in /home/xia_1818/Desktop/ls/lib/python3.10/site-packages (from everywhereml==0.2.36) (2.0.0)\n",
      "Requirement already satisfied: seaborn in /home/xia_1818/Desktop/ls/lib/python3.10/site-packages (from everywhereml==0.2.36) (0.12.2)\n",
      "Requirement already satisfied: scikit-learn in /home/xia_1818/Desktop/ls/lib/python3.10/site-packages (from everywhereml==0.2.36) (1.2.1)\n",
      "Requirement already satisfied: scikit-image in /home/xia_1818/Desktop/ls/lib/python3.10/site-packages (from everywhereml==0.2.36) (0.19.3)\n",
      "Requirement already satisfied: Jinja2 in /home/xia_1818/Desktop/ls/lib/python3.10/site-packages (from everywhereml==0.2.36) (3.1.2)\n",
      "Requirement already satisfied: cached-property in /home/xia_1818/Desktop/ls/lib/python3.10/site-packages (from everywhereml==0.2.36) (1.5.2)\n",
      "Requirement already satisfied: umap-learn in /home/xia_1818/Desktop/ls/lib/python3.10/site-packages (from everywhereml==0.2.36) (0.5.6)\n",
      "Requirement already satisfied: python-slugify in /home/xia_1818/Desktop/ls/lib/python3.10/site-packages (from everywhereml==0.2.36) (5.0.2)\n",
      "Requirement already satisfied: hexdump in /home/xia_1818/Desktop/ls/lib/python3.10/site-packages (from everywhereml==0.2.36) (3.3)\n",
      "Requirement already satisfied: jinja2_workarounds in /home/xia_1818/Desktop/ls/lib/python3.10/site-packages (from everywhereml==0.2.36) (0.1.0)\n",
      "Requirement already satisfied: requests in /home/xia_1818/Desktop/ls/lib/python3.10/site-packages (from everywhereml==0.2.36) (2.28.2)\n",
      "Requirement already satisfied: pySerial in /home/xia_1818/Desktop/ls/lib/python3.10/site-packages (from everywhereml==0.2.36) (3.5)\n",
      "Requirement already satisfied: tqdm in /home/xia_1818/Desktop/ls/lib/python3.10/site-packages (from everywhereml==0.2.36) (4.65.2)\n",
      "Requirement already satisfied: MarkupSafe>=2.0 in /home/xia_1818/Desktop/ls/lib/python3.10/site-packages (from Jinja2->everywhereml==0.2.36) (2.1.1)\n",
      "Requirement already satisfied: pytz>=2020.1 in /home/xia_1818/Desktop/ls/lib/python3.10/site-packages (from pandas->everywhereml==0.2.36) (2023.3.post1)\n",
      "Requirement already satisfied: tzdata>=2022.1 in /home/xia_1818/Desktop/ls/lib/python3.10/site-packages (from pandas->everywhereml==0.2.36) (2024.1)\n",
      "Requirement already satisfied: python-dateutil>=2.8.2 in /home/xia_1818/Desktop/ls/lib/python3.10/site-packages (from pandas->everywhereml==0.2.36) (2.8.2)\n",
      "Requirement already satisfied: text-unidecode>=1.3 in /home/xia_1818/Desktop/ls/lib/python3.10/site-packages (from python-slugify->everywhereml==0.2.36) (1.3)\n",
      "Requirement already satisfied: urllib3<1.27,>=1.21.1 in /home/xia_1818/Desktop/ls/lib/python3.10/site-packages (from requests->everywhereml==0.2.36) (1.26.14)\n",
      "Requirement already satisfied: idna<4,>=2.5 in /home/xia_1818/Desktop/ls/lib/python3.10/site-packages (from requests->everywhereml==0.2.36) (3.4)\n",
      "Requirement already satisfied: certifi>=2017.4.17 in /home/xia_1818/Desktop/ls/lib/python3.10/site-packages (from requests->everywhereml==0.2.36) (2023.5.7)\n",
      "Requirement already satisfied: charset-normalizer<4,>=2 in /home/xia_1818/Desktop/ls/lib/python3.10/site-packages (from requests->everywhereml==0.2.36) (2.0.4)\n",
      "Requirement already satisfied: tifffile>=2019.7.26 in /home/xia_1818/Desktop/ls/lib/python3.10/site-packages (from scikit-image->everywhereml==0.2.36) (2021.7.2)\n",
      "Requirement already satisfied: networkx>=2.2 in /home/xia_1818/Desktop/ls/lib/python3.10/site-packages (from scikit-image->everywhereml==0.2.36) (2.8.4)\n",
      "Requirement already satisfied: imageio>=2.4.1 in /home/xia_1818/Desktop/ls/lib/python3.10/site-packages (from scikit-image->everywhereml==0.2.36) (2.26.0)\n",
      "Requirement already satisfied: PyWavelets>=1.1.1 in /home/xia_1818/Desktop/ls/lib/python3.10/site-packages (from scikit-image->everywhereml==0.2.36) (1.4.1)\n",
      "Requirement already satisfied: packaging>=20.0 in /home/xia_1818/Desktop/ls/lib/python3.10/site-packages (from scikit-image->everywhereml==0.2.36) (22.0)\n",
      "Requirement already satisfied: scipy>=1.4.1 in /home/xia_1818/Desktop/ls/lib/python3.10/site-packages (from scikit-image->everywhereml==0.2.36) (1.10.0)\n",
      "Requirement already satisfied: pillow!=7.1.0,!=7.1.1,!=8.3.0,>=6.1.0 in /home/xia_1818/Desktop/ls/lib/python3.10/site-packages (from scikit-image->everywhereml==0.2.36) (9.4.0)\n",
      "Requirement already satisfied: joblib>=1.1.1 in /home/xia_1818/Desktop/ls/lib/python3.10/site-packages (from scikit-learn->everywhereml==0.2.36) (1.1.1)\n",
      "Requirement already satisfied: threadpoolctl>=2.0.0 in /home/xia_1818/Desktop/ls/lib/python3.10/site-packages (from scikit-learn->everywhereml==0.2.36) (2.2.0)\n",
      "Requirement already satisfied: matplotlib!=3.6.1,>=3.1 in /home/xia_1818/Desktop/ls/lib/python3.10/site-packages (from seaborn->everywhereml==0.2.36) (3.7.0)\n",
      "Requirement already satisfied: numba>=0.51.2 in /home/xia_1818/Desktop/ls/lib/python3.10/site-packages (from umap-learn->everywhereml==0.2.36) (0.59.1)\n",
      "Requirement already satisfied: pynndescent>=0.5 in /home/xia_1818/Desktop/ls/lib/python3.10/site-packages (from umap-learn->everywhereml==0.2.36) (0.5.13)\n",
      "Requirement already satisfied: fonttools>=4.22.0 in /home/xia_1818/Desktop/ls/lib/python3.10/site-packages (from matplotlib!=3.6.1,>=3.1->seaborn->everywhereml==0.2.36) (4.25.0)\n",
      "Requirement already satisfied: cycler>=0.10 in /home/xia_1818/Desktop/ls/lib/python3.10/site-packages (from matplotlib!=3.6.1,>=3.1->seaborn->everywhereml==0.2.36) (0.11.0)\n",
      "Requirement already satisfied: kiwisolver>=1.0.1 in /home/xia_1818/Desktop/ls/lib/python3.10/site-packages (from matplotlib!=3.6.1,>=3.1->seaborn->everywhereml==0.2.36) (1.4.4)\n",
      "Requirement already satisfied: pyparsing>=2.3.1 in /home/xia_1818/Desktop/ls/lib/python3.10/site-packages (from matplotlib!=3.6.1,>=3.1->seaborn->everywhereml==0.2.36) (3.0.9)\n",
      "Requirement already satisfied: contourpy>=1.0.1 in /home/xia_1818/Desktop/ls/lib/python3.10/site-packages (from matplotlib!=3.6.1,>=3.1->seaborn->everywhereml==0.2.36) (1.0.5)\n",
      "Requirement already satisfied: llvmlite<0.43,>=0.42.0dev0 in /home/xia_1818/Desktop/ls/lib/python3.10/site-packages (from numba>=0.51.2->umap-learn->everywhereml==0.2.36) (0.42.0)\n",
      "Requirement already satisfied: six>=1.5 in /home/xia_1818/Desktop/ls/lib/python3.10/site-packages (from python-dateutil>=2.8.2->pandas->everywhereml==0.2.36) (1.16.0)\n",
      "Building wheels for collected packages: everywhereml\n",
      "  Building wheel for everywhereml (setup.py) ... \u001b[?25ldone\n",
      "\u001b[?25h  Created wheel for everywhereml: filename=everywhereml-0.2.36-py3-none-any.whl size=80986 sha256=45bbc5bf1ff1a9747354b5312ee176ce6dd7fdda9a177e09f499596f830197d7\n",
      "  Stored in directory: /home/xia_1818/.cache/pip/wheels/c6/d5/41/e0eabebc12668a06f7a0bc2052b3307e8c1cb2535be4aefba4\n",
      "Successfully built everywhereml\n",
      "Installing collected packages: everywhereml\n",
      "  Attempting uninstall: everywhereml\n",
      "    Found existing installation: everywhereml 0.2.39\n",
      "    Uninstalling everywhereml-0.2.39:\n",
      "      Successfully uninstalled everywhereml-0.2.39\n",
      "Successfully installed everywhereml-0.2.36\n"
     ]
    }
   ],
   "source": [
    "! pip install \"everywhereml==0.2.36\""
   ]
  },
  {
   "cell_type": "code",
   "execution_count": 4,
   "metadata": {},
   "outputs": [],
   "source": [
    "\"\"\"\n",
    "Get X and y data\n",
    "(replace with your own)\n",
    "\"\"\"\n",
    "import numpy as np\n",
    "from sklearn.datasets import load_iris\n",
    "from sklearn.preprocessing import MinMaxScaler\n",
    "\n",
    "\n",
    "def load_Xy():\n",
    "  \"\"\"\n",
    "  Load your data here.\n",
    "  It may be a CSV file or whatever\n",
    "  \"\"\"\n",
    "  return load_iris(return_X_y=True)\n",
    "\n",
    "\n",
    "def get_Xy():\n",
    "  \"\"\"\n",
    "  Normalize X\n",
    "  One-hot encode y\n",
    "  \"\"\"\n",
    "  X, y = load_Xy()\n",
    "  X = np.asarray(X)\n",
    "  y = np.asarray(y)\n",
    "  num_classes = y.max()\n",
    "  eye = np.eye(num_classes + 1)\n",
    "  X_norm = MinMaxScaler().fit_transform(X)\n",
    "  y_hot = np.asarray([eye[yi] for yi in y], dtype=int)\n",
    "\n",
    "  return X_norm, y_hot"
   ]
  },
  {
   "cell_type": "code",
   "execution_count": 5,
   "metadata": {},
   "outputs": [
    {
     "name": "stderr",
     "output_type": "stream",
     "text": [
      "2024-10-01 17:54:45.178229: I tensorflow/core/platform/cpu_feature_guard.cc:210] This TensorFlow binary is optimized to use available CPU instructions in performance-critical operations.\n",
      "To enable the following instructions: AVX2 FMA, in other operations, rebuild TensorFlow with the appropriate compiler flags.\n",
      "2024-10-01 17:54:46.660888: W tensorflow/compiler/tf2tensorrt/utils/py_utils.cc:38] TF-TRT Warning: Could not find TensorRT\n"
     ]
    }
   ],
   "source": [
    "\"\"\"\n",
    "Instantiate NN for classification\n",
    "Replace with your own topology\n",
    "\"\"\"\n",
    "import tensorflow as tf\n",
    "from tensorflow.keras import Input, layers\n",
    "\n",
    "\n",
    "def instantiate_nn_for_classification(input_shape, num_classes):\n",
    "  model = tf.keras.Sequential()\n",
    "  model.add(Input(input_shape))\n",
    "  model.add(layers.Dense(32, activation='relu'))\n",
    "  model.add(layers.Dense(16, activation='relu'))\n",
    "  model.add(layers.Dense(num_classes, activation='softmax'))\n",
    "  model.compile(optimizer='adam', loss='categorical_crossentropy', metrics=['accuracy'])\n",
    "\n",
    "  return model"
   ]
  },
  {
   "cell_type": "code",
   "execution_count": 6,
   "metadata": {},
   "outputs": [],
   "source": [
    "\"\"\"\n",
    "Split data between train, validation and test\n",
    "\"\"\"\n",
    "from sklearn.model_selection import train_test_split\n",
    "\n",
    "\n",
    "X, y = get_Xy()\n",
    "X_train, X_test, y_train, y_test = train_test_split(X, y, test_size=0.3)\n",
    "X_train, X_val, y_train, y_val = train_test_split(X_train, y_train, test_size=0.3)"
   ]
  },
  {
   "cell_type": "code",
   "execution_count": 8,
   "metadata": {},
   "outputs": [
    {
     "name": "stdout",
     "output_type": "stream",
     "text": [
      "Epoch 1/50\n"
     ]
    },
    {
     "name": "stderr",
     "output_type": "stream",
     "text": [
      "2024-10-01 17:55:44.637612: W tensorflow/core/framework/op_kernel.cc:1839] OP_REQUIRES failed at xla_ops.cc:580 : INTERNAL: XLA requires ptxas version 11.8 or higher\n",
      "2024-10-01 17:55:44.637648: W tensorflow/core/framework/local_rendezvous.cc:404] Local rendezvous is aborting with status: INTERNAL: XLA requires ptxas version 11.8 or higher\n",
      "\t [[{{node StatefulPartitionedCall}}]]\n"
     ]
    },
    {
     "ename": "InternalError",
     "evalue": "Graph execution error:\n\nDetected at node StatefulPartitionedCall defined at (most recent call last):\n  File \"/home/xia_1818/Desktop/ls/lib/python3.10/runpy.py\", line 196, in _run_module_as_main\n\n  File \"/home/xia_1818/Desktop/ls/lib/python3.10/runpy.py\", line 86, in _run_code\n\n  File \"/home/xia_1818/Desktop/ls/lib/python3.10/site-packages/ipykernel_launcher.py\", line 17, in <module>\n\n  File \"/home/xia_1818/Desktop/ls/lib/python3.10/site-packages/traitlets/config/application.py\", line 992, in launch_instance\n\n  File \"/home/xia_1818/Desktop/ls/lib/python3.10/site-packages/ipykernel/kernelapp.py\", line 711, in start\n\n  File \"/home/xia_1818/Desktop/ls/lib/python3.10/site-packages/tornado/platform/asyncio.py\", line 199, in start\n\n  File \"/home/xia_1818/Desktop/ls/lib/python3.10/asyncio/base_events.py\", line 603, in run_forever\n\n  File \"/home/xia_1818/Desktop/ls/lib/python3.10/asyncio/base_events.py\", line 1906, in _run_once\n\n  File \"/home/xia_1818/Desktop/ls/lib/python3.10/asyncio/events.py\", line 80, in _run\n\n  File \"/home/xia_1818/Desktop/ls/lib/python3.10/site-packages/ipykernel/kernelbase.py\", line 510, in dispatch_queue\n\n  File \"/home/xia_1818/Desktop/ls/lib/python3.10/site-packages/ipykernel/kernelbase.py\", line 499, in process_one\n\n  File \"/home/xia_1818/Desktop/ls/lib/python3.10/site-packages/ipykernel/kernelbase.py\", line 406, in dispatch_shell\n\n  File \"/home/xia_1818/Desktop/ls/lib/python3.10/site-packages/ipykernel/kernelbase.py\", line 729, in execute_request\n\n  File \"/home/xia_1818/Desktop/ls/lib/python3.10/site-packages/ipykernel/ipkernel.py\", line 411, in do_execute\n\n  File \"/home/xia_1818/Desktop/ls/lib/python3.10/site-packages/ipykernel/zmqshell.py\", line 531, in run_cell\n\n  File \"/home/xia_1818/Desktop/ls/lib/python3.10/site-packages/IPython/core/interactiveshell.py\", line 2961, in run_cell\n\n  File \"/home/xia_1818/Desktop/ls/lib/python3.10/site-packages/IPython/core/interactiveshell.py\", line 3016, in _run_cell\n\n  File \"/home/xia_1818/Desktop/ls/lib/python3.10/site-packages/IPython/core/async_helpers.py\", line 129, in _pseudo_sync_runner\n\n  File \"/home/xia_1818/Desktop/ls/lib/python3.10/site-packages/IPython/core/interactiveshell.py\", line 3221, in run_cell_async\n\n  File \"/home/xia_1818/Desktop/ls/lib/python3.10/site-packages/IPython/core/interactiveshell.py\", line 3400, in run_ast_nodes\n\n  File \"/home/xia_1818/Desktop/ls/lib/python3.10/site-packages/IPython/core/interactiveshell.py\", line 3460, in run_code\n\n  File \"/tmp/ipykernel_517745/3908628786.py\", line 8, in <module>\n\n  File \"/home/xia_1818/Desktop/ls/lib/python3.10/site-packages/keras/src/utils/traceback_utils.py\", line 117, in error_handler\n\n  File \"/home/xia_1818/Desktop/ls/lib/python3.10/site-packages/keras/src/backend/tensorflow/trainer.py\", line 325, in fit\n\n  File \"/home/xia_1818/Desktop/ls/lib/python3.10/site-packages/keras/src/backend/tensorflow/trainer.py\", line 118, in one_step_on_iterator\n\nXLA requires ptxas version 11.8 or higher\n\t [[{{node StatefulPartitionedCall}}]] [Op:__inference_one_step_on_iterator_2538]",
     "output_type": "error",
     "traceback": [
      "\u001b[0;31m---------------------------------------------------------------------------\u001b[0m",
      "\u001b[0;31mInternalError\u001b[0m                             Traceback (most recent call last)",
      "Cell \u001b[0;32mIn[8], line 8\u001b[0m\n\u001b[1;32m      5\u001b[0m num_classes \u001b[38;5;241m=\u001b[39m y\u001b[38;5;241m.\u001b[39mshape[\u001b[38;5;241m1\u001b[39m]\n\u001b[1;32m      7\u001b[0m model \u001b[38;5;241m=\u001b[39m instantiate_nn_for_classification(input_shape, num_classes)\n\u001b[0;32m----> 8\u001b[0m history \u001b[38;5;241m=\u001b[39m \u001b[43mmodel\u001b[49m\u001b[38;5;241;43m.\u001b[39;49m\u001b[43mfit\u001b[49m\u001b[43m(\u001b[49m\u001b[43mX_train\u001b[49m\u001b[43m,\u001b[49m\u001b[43m \u001b[49m\u001b[43my_train\u001b[49m\u001b[43m,\u001b[49m\u001b[43m \u001b[49m\u001b[43mepochs\u001b[49m\u001b[38;5;241;43m=\u001b[39;49m\u001b[38;5;241;43m50\u001b[39;49m\u001b[43m,\u001b[49m\u001b[43m \u001b[49m\u001b[43mbatch_size\u001b[49m\u001b[38;5;241;43m=\u001b[39;49m\u001b[38;5;241;43m16\u001b[39;49m\u001b[43m,\u001b[49m\u001b[43m \u001b[49m\u001b[43mvalidation_data\u001b[49m\u001b[38;5;241;43m=\u001b[39;49m\u001b[43m(\u001b[49m\u001b[43mX_val\u001b[49m\u001b[43m,\u001b[49m\u001b[43m \u001b[49m\u001b[43my_val\u001b[49m\u001b[43m)\u001b[49m\u001b[43m)\u001b[49m\n",
      "File \u001b[0;32m~/Desktop/ls/lib/python3.10/site-packages/keras/src/utils/traceback_utils.py:122\u001b[0m, in \u001b[0;36mfilter_traceback.<locals>.error_handler\u001b[0;34m(*args, **kwargs)\u001b[0m\n\u001b[1;32m    119\u001b[0m     filtered_tb \u001b[38;5;241m=\u001b[39m _process_traceback_frames(e\u001b[38;5;241m.\u001b[39m__traceback__)\n\u001b[1;32m    120\u001b[0m     \u001b[38;5;66;03m# To get the full stack trace, call:\u001b[39;00m\n\u001b[1;32m    121\u001b[0m     \u001b[38;5;66;03m# `keras.config.disable_traceback_filtering()`\u001b[39;00m\n\u001b[0;32m--> 122\u001b[0m     \u001b[38;5;28;01mraise\u001b[39;00m e\u001b[38;5;241m.\u001b[39mwith_traceback(filtered_tb) \u001b[38;5;28;01mfrom\u001b[39;00m \u001b[38;5;28;01mNone\u001b[39;00m\n\u001b[1;32m    123\u001b[0m \u001b[38;5;28;01mfinally\u001b[39;00m:\n\u001b[1;32m    124\u001b[0m     \u001b[38;5;28;01mdel\u001b[39;00m filtered_tb\n",
      "File \u001b[0;32m~/Desktop/ls/lib/python3.10/site-packages/tensorflow/python/eager/execute.py:53\u001b[0m, in \u001b[0;36mquick_execute\u001b[0;34m(op_name, num_outputs, inputs, attrs, ctx, name)\u001b[0m\n\u001b[1;32m     51\u001b[0m \u001b[38;5;28;01mtry\u001b[39;00m:\n\u001b[1;32m     52\u001b[0m   ctx\u001b[38;5;241m.\u001b[39mensure_initialized()\n\u001b[0;32m---> 53\u001b[0m   tensors \u001b[38;5;241m=\u001b[39m pywrap_tfe\u001b[38;5;241m.\u001b[39mTFE_Py_Execute(ctx\u001b[38;5;241m.\u001b[39m_handle, device_name, op_name,\n\u001b[1;32m     54\u001b[0m                                       inputs, attrs, num_outputs)\n\u001b[1;32m     55\u001b[0m \u001b[38;5;28;01mexcept\u001b[39;00m core\u001b[38;5;241m.\u001b[39m_NotOkStatusException \u001b[38;5;28;01mas\u001b[39;00m e:\n\u001b[1;32m     56\u001b[0m   \u001b[38;5;28;01mif\u001b[39;00m name \u001b[38;5;129;01mis\u001b[39;00m \u001b[38;5;129;01mnot\u001b[39;00m \u001b[38;5;28;01mNone\u001b[39;00m:\n",
      "\u001b[0;31mInternalError\u001b[0m: Graph execution error:\n\nDetected at node StatefulPartitionedCall defined at (most recent call last):\n  File \"/home/xia_1818/Desktop/ls/lib/python3.10/runpy.py\", line 196, in _run_module_as_main\n\n  File \"/home/xia_1818/Desktop/ls/lib/python3.10/runpy.py\", line 86, in _run_code\n\n  File \"/home/xia_1818/Desktop/ls/lib/python3.10/site-packages/ipykernel_launcher.py\", line 17, in <module>\n\n  File \"/home/xia_1818/Desktop/ls/lib/python3.10/site-packages/traitlets/config/application.py\", line 992, in launch_instance\n\n  File \"/home/xia_1818/Desktop/ls/lib/python3.10/site-packages/ipykernel/kernelapp.py\", line 711, in start\n\n  File \"/home/xia_1818/Desktop/ls/lib/python3.10/site-packages/tornado/platform/asyncio.py\", line 199, in start\n\n  File \"/home/xia_1818/Desktop/ls/lib/python3.10/asyncio/base_events.py\", line 603, in run_forever\n\n  File \"/home/xia_1818/Desktop/ls/lib/python3.10/asyncio/base_events.py\", line 1906, in _run_once\n\n  File \"/home/xia_1818/Desktop/ls/lib/python3.10/asyncio/events.py\", line 80, in _run\n\n  File \"/home/xia_1818/Desktop/ls/lib/python3.10/site-packages/ipykernel/kernelbase.py\", line 510, in dispatch_queue\n\n  File \"/home/xia_1818/Desktop/ls/lib/python3.10/site-packages/ipykernel/kernelbase.py\", line 499, in process_one\n\n  File \"/home/xia_1818/Desktop/ls/lib/python3.10/site-packages/ipykernel/kernelbase.py\", line 406, in dispatch_shell\n\n  File \"/home/xia_1818/Desktop/ls/lib/python3.10/site-packages/ipykernel/kernelbase.py\", line 729, in execute_request\n\n  File \"/home/xia_1818/Desktop/ls/lib/python3.10/site-packages/ipykernel/ipkernel.py\", line 411, in do_execute\n\n  File \"/home/xia_1818/Desktop/ls/lib/python3.10/site-packages/ipykernel/zmqshell.py\", line 531, in run_cell\n\n  File \"/home/xia_1818/Desktop/ls/lib/python3.10/site-packages/IPython/core/interactiveshell.py\", line 2961, in run_cell\n\n  File \"/home/xia_1818/Desktop/ls/lib/python3.10/site-packages/IPython/core/interactiveshell.py\", line 3016, in _run_cell\n\n  File \"/home/xia_1818/Desktop/ls/lib/python3.10/site-packages/IPython/core/async_helpers.py\", line 129, in _pseudo_sync_runner\n\n  File \"/home/xia_1818/Desktop/ls/lib/python3.10/site-packages/IPython/core/interactiveshell.py\", line 3221, in run_cell_async\n\n  File \"/home/xia_1818/Desktop/ls/lib/python3.10/site-packages/IPython/core/interactiveshell.py\", line 3400, in run_ast_nodes\n\n  File \"/home/xia_1818/Desktop/ls/lib/python3.10/site-packages/IPython/core/interactiveshell.py\", line 3460, in run_code\n\n  File \"/tmp/ipykernel_517745/3908628786.py\", line 8, in <module>\n\n  File \"/home/xia_1818/Desktop/ls/lib/python3.10/site-packages/keras/src/utils/traceback_utils.py\", line 117, in error_handler\n\n  File \"/home/xia_1818/Desktop/ls/lib/python3.10/site-packages/keras/src/backend/tensorflow/trainer.py\", line 325, in fit\n\n  File \"/home/xia_1818/Desktop/ls/lib/python3.10/site-packages/keras/src/backend/tensorflow/trainer.py\", line 118, in one_step_on_iterator\n\nXLA requires ptxas version 11.8 or higher\n\t [[{{node StatefulPartitionedCall}}]] [Op:__inference_one_step_on_iterator_2538]"
     ]
    }
   ],
   "source": [
    "\"\"\"\n",
    "Train model\n",
    "\"\"\"\n",
    "input_shape = X.shape[1:]\n",
    "num_classes = y.shape[1]\n",
    "\n",
    "model = instantiate_nn_for_classification(input_shape, num_classes)\n",
    "history = model.fit(X_train, y_train, epochs=50, batch_size=16, validation_data=(X_val, y_val))"
   ]
  },
  {
   "cell_type": "code",
   "execution_count": null,
   "metadata": {},
   "outputs": [],
   "source": [
    "\"\"\"\n",
    "Export NN to C++\n",
    "Copy-paste the generated code inside a file named model.h or irisModel.h\n",
    "in your Arduino project\n",
    "\"\"\"\n",
    "from everywhereml.code_generators.tensorflow import convert_model\n",
    "\n",
    "\n",
    "c_header = convert_model(model, X, y, model_name='irisModel')\n",
    "print(c_header)"
   ]
  }
 ],
 "metadata": {
  "kernelspec": {
   "display_name": "njadkernel",
   "language": "python",
   "name": "njadkernel"
  },
  "language_info": {
   "codemirror_mode": {
    "name": "ipython",
    "version": 3
   },
   "file_extension": ".py",
   "mimetype": "text/x-python",
   "name": "python",
   "nbconvert_exporter": "python",
   "pygments_lexer": "ipython3",
   "version": "3.10.9"
  }
 },
 "nbformat": 4,
 "nbformat_minor": 2
}
