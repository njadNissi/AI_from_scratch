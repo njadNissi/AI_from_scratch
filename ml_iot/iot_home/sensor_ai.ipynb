{
 "cells": [
  {
   "cell_type": "markdown",
   "metadata": {},
   "source": [
    "### Import modules for dataset generation"
   ]
  },
  {
   "cell_type": "code",
   "execution_count": 1,
   "metadata": {},
   "outputs": [],
   "source": [
    "import numpy as np\n",
    "import pandas as pd\n",
    "import random\n",
    "from datetime import datetime, timedelta\n",
    "import matplotlib.pyplot as plt"
   ]
  },
  {
   "cell_type": "markdown",
   "metadata": {},
   "source": [
    "\n",
    "### Generate Dataset"
   ]
  },
  {
   "cell_type": "markdown",
   "metadata": {},
   "source": [
    "This dataset represents a yearly pattern of devices states based on different features:\n",
    "\n",
    "To build a machine learning model that automatically sets the air conditioning (AC) temperature and decides whether to turn on or off the lights based on user behavior, you'll need a dataset with relevant features, such as time, temperature, and light preferences. Since I cannot provide an actual dataset, I can generate synthetic data and provide a Python code framework for training the model.\n",
    "Step 1: Synthetic Data Generation\n",
    "\n",
    "The synthetic dataset will include:\n",
    "\n",
    "    Date/Time: Time and date to capture seasonal patterns.\n",
    "    Room Temperature: The current temperature in the room.\n",
    "    Outside Temperature: External temperature that might influence AC settings.\n",
    "    Occupancy: Whether the room is occupied or not.\n",
    "    AC Temperature: The temperature the user typically sets.\n",
    "    Light On/Off: Whether the light is turned on or off."
   ]
  },
  {
   "cell_type": "code",
   "execution_count": 2,
   "metadata": {},
   "outputs": [
    {
     "name": "stdout",
     "output_type": "stream",
     "text": [
      "               timestamp  outside_temperature  room_temperature  occupancy   \n",
      "8750 2023-12-31 14:00:00            28.810622         31.771647          1  \\\n",
      "8751 2023-12-31 15:00:00            25.405895         29.001936          1   \n",
      "8752 2023-12-31 16:00:00            26.190832         27.373568          1   \n",
      "8753 2023-12-31 17:00:00            16.244910         19.623233          1   \n",
      "8754 2023-12-31 18:00:00            13.439028         14.088931          0   \n",
      "8755 2023-12-31 19:00:00            32.692557         35.840841          1   \n",
      "8756 2023-12-31 20:00:00            15.026829         16.745072          1   \n",
      "8757 2023-12-31 21:00:00            22.940820         26.503644          1   \n",
      "8758 2023-12-31 22:00:00            21.633347         23.169316          0   \n",
      "8759 2023-12-31 23:00:00            34.617170         36.307279          0   \n",
      "\n",
      "      ac_temperature  light_on  \n",
      "8750       20.862715         0  \n",
      "8751       23.640876         0  \n",
      "8752       24.075359         0  \n",
      "8753       23.017481         0  \n",
      "8754       23.017481         0  \n",
      "8755       23.312241         1  \n",
      "8756       17.006340         1  \n",
      "8757       22.020395         1  \n",
      "8758       22.020395         0  \n",
      "8759       22.020395         0  \n"
     ]
    }
   ],
   "source": [
    "# Data generation parameters\n",
    "days = 365\n",
    "data_per_day = 24  # Data points per day (1 per hour)\n",
    "n_samples = days * data_per_day\n",
    "\n",
    "# Create a date range for a year\n",
    "start_date = datetime(2023, 1, 1)\n",
    "timestamps = [start_date + timedelta(hours=i) for i in range(n_samples)]\n",
    "\n",
    "# Generate synthetic data\n",
    "np.random.seed(42)\n",
    "outside_temperature = np.random.normal(20, 10, n_samples)  # Simulating outside temp\n",
    "room_occupancy = np.random.choice([0, 1], n_samples, p=[0.7, 0.3])  # 70% unoccupied, 30% occupied\n",
    "ac_temperature = np.where(room_occupancy == 1, np.random.normal(22, 2, n_samples), np.nan)  # Set temp if occupied\n",
    "room_temperature = outside_temperature + np.random.normal(2, 1, n_samples)  # Simulate room temp\n",
    "\n",
    "# Light status based on occupancy and time of day\n",
    "light_on = np.where((room_occupancy == 1) & ((np.array([d.hour for d in timestamps]) < 6) |\n",
    "                                       (np.array([d.hour for d in timestamps]) > 18)), 1, 0)\n",
    "\n",
    "# Create a DataFrame\n",
    "df = pd.DataFrame({\n",
    "    'timestamp': timestamps,\n",
    "    'outside_temperature': outside_temperature,\n",
    "    'room_temperature': room_temperature,\n",
    "    'occupancy': room_occupancy,\n",
    "    'ac_temperature': ac_temperature,\n",
    "    'light_on': light_on\n",
    "})\n",
    "\n",
    "# Fill in missing AC temperatures when room is unoccupied\n",
    "df['ac_temperature'].ffill(inplace=True)\n",
    "\n",
    "# Display the first few rows of the dataset\n",
    "print(df.tail(10))\n",
    "\n",
    "# Save to CSV\n",
    "# df.to_csv('synthetic_ac_light_data.csv', index=False)"
   ]
  },
  {
   "cell_type": "markdown",
   "metadata": {},
   "source": [
    "### Import modules for Model Training"
   ]
  },
  {
   "cell_type": "code",
   "execution_count": 3,
   "metadata": {},
   "outputs": [],
   "source": [
    "\n",
    "import pandas as pd\n",
    "from sklearn.model_selection import train_test_split\n",
    "from sklearn.ensemble import RandomForestRegressor, RandomForestClassifier\n",
    "from sklearn.metrics import mean_squared_error, accuracy_score\n",
    "import pickle"
   ]
  },
  {
   "cell_type": "markdown",
   "metadata": {},
   "source": [
    "### Load data from csv and clear nan values"
   ]
  },
  {
   "cell_type": "code",
   "execution_count": 4,
   "metadata": {},
   "outputs": [
    {
     "name": "stdout",
     "output_type": "stream",
     "text": [
      "Checking for missing values...\n",
      "ac_temperature    7\n",
      "light_on          0\n",
      "dtype: int64\n"
     ]
    }
   ],
   "source": [
    "df = pd.read_csv('synthetic_ac_light_data.csv')\n",
    "\n",
    "# Check for missing values in target columns (ac_temperature and light_on)\n",
    "print(\"Checking for missing values...\")\n",
    "print(df[['ac_temperature', 'light_on']].isna().sum())\n",
    "\n",
    "# Drop rows where target values are NaN\n",
    "df = df.dropna(subset=['ac_temperature', 'light_on'])"
   ]
  },
  {
   "cell_type": "code",
   "execution_count": 5,
   "metadata": {},
   "outputs": [],
   "source": [
    "# Convert timestamp to datetime format (if not already done)\n",
    "df['timestamp'] = pd.to_datetime(df['timestamp'])\n",
    "\n",
    "# Extract time-based features\n",
    "df['hour'] = df['timestamp'].dt.hour  # Extract hour of the day (0-23)\n",
    "df['day_of_week'] = df['timestamp'].dt.dayofweek  # Extract day of the week (0=Monday, 6=Sunday)\n",
    "\n",
    "# Features (X) and labels (y)\n",
    "X = df[['outside_temperature', 'room_temperature', 'occupancy', 'hour', 'day_of_week']]\n",
    "y_temp = df['ac_temperature']  # For AC temperature prediction (regression)\n",
    "y_light = df['light_on']  # For light on/off prediction (classification)\n",
    "\n",
    "# Split data into training and test sets\n",
    "X_train, X_test, y_temp_train, y_temp_test, y_light_train, y_light_test = train_test_split(X, y_temp, y_light, test_size=0.3, random_state=42)"
   ]
  },
  {
   "cell_type": "markdown",
   "metadata": {},
   "source": [
    "### Train the model: Random Forest Regressor"
   ]
  },
  {
   "cell_type": "markdown",
   "metadata": {},
   "source": [
    "Why Choose Random Forest Regressor?\n",
    "\n",
    "    Robustness to Overfitting:\n",
    "        Random forests are an ensemble learning method that combines multiple decision trees. This reduces the risk of overfitting, especially compared to individual decision trees, which can be prone to overfitting when capturing noise in the data.\n",
    "\n",
    "    Handling Non-Linearity:\n",
    "        Random forests can capture complex relationships between features and the target variable, making them effective for datasets with non-linear patterns.\n",
    "\n",
    "    Feature Importance:\n",
    "        Random forests provide insights into feature importance, allowing you to see which features (like outside temperature, room temperature, occupancy, etc.) have the most impact on the prediction.\n",
    "\n",
    "    Versatility:\n",
    "        They can handle both regression (predicting continuous values, such as AC temperature) and classification (predicting categorical values, such as light status) tasks effectively.\n",
    "\n",
    "    Robust to Outliers:\n",
    "        Random forests are less sensitive to outliers compared to linear regression models, making them suitable for real-world data, which can often contain anomalies.\n",
    "\n",
    "    Automatic Handling of Missing Values:\n",
    "        Random forests can handle missing values and maintain accuracy, making them practical for datasets where some data may be missing.\n",
    "\n",
    "How Random Forest Works\n",
    "1. Ensemble of Decision Trees:\n",
    "\n",
    "    Random forest is built upon the idea of creating a \"forest\" of decision trees. Each tree in the forest is trained on a random subset of the training data (both in terms of samples and features).\n",
    "\n",
    "2. Bootstrap Sampling:\n",
    "\n",
    "    During training, a random sample (with replacement) of the dataset is created. This is known as bootstrapping. Each tree is built using a different bootstrapped sample, which introduces diversity among the trees.\n",
    "\n",
    "3. Random Feature Selection:\n",
    "\n",
    "    When splitting nodes in each decision tree, a random subset of features is selected instead of considering all features. This further decorrelates the trees, which helps reduce variance and improve generalization.\n",
    "\n",
    "4. Making Predictions:\n",
    "\n",
    "    For regression tasks, each tree in the forest makes a prediction, and the final prediction is obtained by averaging the predictions of all individual trees. For classification tasks, the mode of the predictions from all trees is taken as the final output.\n",
    "\n",
    "5. Feature Importance Calculation:\n",
    "\n",
    "    Random forests provide a measure of feature importance based on how much each feature contributes to reducing the impurity (e.g., Gini impurity or mean squared error) across all trees in the forest. This allows you to identify which features are most influential in predicting the target variable.\n",
    "\n",
    "Visual Representation\n",
    "\n",
    "    Training Phase:\n",
    "        The training dataset is split into multiple subsets using bootstrap sampling.\n",
    "        Decision trees are trained on these subsets using random feature selection.\n",
    "\n",
    "    Prediction Phase:\n",
    "        Each tree provides a prediction, which are then aggregated to get the final output."
   ]
  },
  {
   "cell_type": "code",
   "execution_count": 6,
   "metadata": {},
   "outputs": [
    {
     "name": "stdout",
     "output_type": "stream",
     "text": [
      "AC Temperature Prediction MSE: 4.36\n",
      "Light On/Off Prediction Accuracy: 100.00%\n"
     ]
    }
   ],
   "source": [
    "# Train regression model for AC temperature\n",
    "regressor = RandomForestRegressor(n_estimators=100, random_state=42)\n",
    "regressor.fit(X_train, y_temp_train)\n",
    "\n",
    "# Train classification model for light on/off\n",
    "classifier = RandomForestClassifier(n_estimators=100, random_state=42)\n",
    "classifier.fit(X_train, y_light_train)\n",
    "\n",
    "# Predictions\n",
    "y_temp_pred = regressor.predict(X_test)\n",
    "y_light_pred = classifier.predict(X_test)\n",
    "\n",
    "# Evaluate the models\n",
    "mse_temp = mean_squared_error(y_temp_test, y_temp_pred)\n",
    "accuracy_light = accuracy_score(y_light_test, y_light_pred)\n",
    "\n",
    "print(f'AC Temperature Prediction MSE: {mse_temp:.2f}')\n",
    "print(f'Light On/Off Prediction Accuracy: {accuracy_light:.2%}')"
   ]
  },
  {
   "cell_type": "markdown",
   "metadata": {},
   "source": [
    "\n",
    "## Save the models using pickle"
   ]
  },
  {
   "cell_type": "code",
   "execution_count": 7,
   "metadata": {},
   "outputs": [
    {
     "name": "stdout",
     "output_type": "stream",
     "text": [
      "Models saved successfully.\n"
     ]
    }
   ],
   "source": [
    "with open('ac_temperature_model.pkl', 'wb') as temp_model_file:\n",
    "    pickle.dump(regressor, temp_model_file)\n",
    "\n",
    "with open('light_on_off_model.pkl', 'wb') as light_model_file:\n",
    "    pickle.dump(classifier, light_model_file)\n",
    "\n",
    "print(\"Models saved successfully.\")"
   ]
  },
  {
   "cell_type": "markdown",
   "metadata": {},
   "source": [
    "## Import the model and run"
   ]
  },
  {
   "cell_type": "code",
   "execution_count": 8,
   "metadata": {},
   "outputs": [],
   "source": [
    "import pickle\n",
    "import numpy as np\n",
    "import pandas as pd\n",
    "from datetime import datetime"
   ]
  },
  {
   "cell_type": "markdown",
   "metadata": {},
   "source": [
    "## Load model from pikle"
   ]
  },
  {
   "cell_type": "code",
   "execution_count": 9,
   "metadata": {},
   "outputs": [],
   "source": [
    "# Load the models from the pickle files\n",
    "with open('ac_temperature_model.pkl', 'rb') as temp_model_file:\n",
    "    regressor = pickle.load(temp_model_file)\n",
    "\n",
    "with open('light_on_off_model.pkl', 'rb') as light_model_file:\n",
    "    classifier = pickle.load(light_model_file)\n",
    "\n",
    "# Define the feature names for the input data\n",
    "feature_names = ['outside_temperature', 'room_temperature', 'occupancy', 'hour', 'day_of_week']"
   ]
  },
  {
   "cell_type": "code",
   "execution_count": 12,
   "metadata": {},
   "outputs": [],
   "source": [
    "# Function to get input from the user and make predictions\n",
    "def get_user_input(outside_temp:float, room_temp:float, room_occupancy:bool, use_curr_time:bool):\n",
    "\n",
    "    if use_curr_time:\n",
    "        current_time = datetime.now()\n",
    "    else:\n",
    "        time_str = input(\"Enter time (HH:MM, 24-hour format): \")\n",
    "        current_time = datetime.strptime(time_str, '%H:%M')\n",
    "\n",
    "    # Extract hour and day of the week\n",
    "    hour = current_time.hour\n",
    "    day_of_week = current_time.weekday()  # Monday=0, Sunday=6\n",
    "\n",
    "    return pd.DataFrame([[outside_temp, room_temp, room_occupancy, hour, day_of_week]], columns=feature_names)\n",
    "\n",
    "\n",
    "def predict_ac_and_light(features):\n",
    "    # Predict the AC temperature\n",
    "    ac_temp_pred = regressor.predict(features)\n",
    "    \n",
    "    # Predict whether the light should be on or off\n",
    "    light_on_pred = classifier.predict(features)\n",
    "    \n",
    "    return ac_temp_pred[0], light_on_pred[0]"
   ]
  },
  {
   "cell_type": "markdown",
   "metadata": {},
   "source": [
    "# Test case"
   ]
  },
  {
   "cell_type": "code",
   "execution_count": 13,
   "metadata": {},
   "outputs": [
    {
     "name": "stdout",
     "output_type": "stream",
     "text": [
      "\n",
      "Predicted AC Temperature: 22.55 °C\n",
      "Light Status: ON\n"
     ]
    }
   ],
   "source": [
    "features = get_user_input(\n",
    "    outside_temp=45,\n",
    "    room_temp=36,\n",
    "    room_occupancy=1,\n",
    "    use_curr_time=1\n",
    ")\n",
    "room_occupancy = features['occupancy'].iloc[0]\n",
    "ac_temp, light_on = predict_ac_and_light(features)\n",
    "\n",
    "if room_occupancy == 1: # if room occupied\n",
    "    print(f\"\\nPredicted AC Temperature: {ac_temp:.2f} °C\")\n",
    "    if light_on == 1:\n",
    "        print(\"Light Status: ON\")\n",
    "    else:\n",
    "        print(\"Light Status: OFF\")\n",
    "else:\n",
    "    print(\"                   AC : OFF\")\t\n",
    "    print(\"Empty room ---> \")\t\n",
    "    print(\"                Light : OFF\")\t"
   ]
  }
 ],
 "metadata": {
  "kernelspec": {
   "display_name": "njadkernel",
   "language": "python",
   "name": "njadkernel"
  },
  "language_info": {
   "codemirror_mode": {
    "name": "ipython",
    "version": 3
   },
   "file_extension": ".py",
   "mimetype": "text/x-python",
   "name": "python",
   "nbconvert_exporter": "python",
   "pygments_lexer": "ipython3",
   "version": "3.10.9"
  }
 },
 "nbformat": 4,
 "nbformat_minor": 2
}
